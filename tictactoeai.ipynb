{
  "nbformat": 4,
  "nbformat_minor": 0,
  "metadata": {
    "colab": {
      "provenance": [],
      "authorship_tag": "ABX9TyMWuvnAWzuqzLpHy3MbguAE",
      "include_colab_link": true
    },
    "kernelspec": {
      "name": "python3",
      "display_name": "Python 3"
    },
    "language_info": {
      "name": "python"
    }
  },
  "cells": [
    {
      "cell_type": "markdown",
      "metadata": {
        "id": "view-in-github",
        "colab_type": "text"
      },
      "source": [
        "<a href=\"https://colab.research.google.com/github/rishabh1620/tictactoeai/blob/main/tictactoeai.ipynb\" target=\"_parent\"><img src=\"https://colab.research.google.com/assets/colab-badge.svg\" alt=\"Open In Colab\"/></a>"
      ]
    },
    {
      "cell_type": "code",
      "execution_count": null,
      "metadata": {
        "id": "cUU-_qZaBGxl"
      },
      "outputs": [],
      "source": [
        "def ConstBoard(board):\n",
        "  print(\"Current State of the Board: \\n\\n\");\n",
        "  for i in range(0,9):\n",
        "    if((i>0) and (i%3==0)):\n",
        "      print(\"\\n\");\n",
        "    if(board[i]==0):\n",
        "      print(\"_\", end=\" \");\n",
        "    if(board[i]==-1):\n",
        "      print(\"X\", end=\" \");\n",
        "    if(board[i]==1):\n",
        "      print(\"O\", end=\" \");\n",
        "  print(\"\\n\\n\");\n",
        "\n",
        "\n",
        "def main():\n",
        "  choice = input(\"Enter 1 for Single Player, 2 for Multiplayer: \");\n",
        "  choice = int(choice);\n",
        "  board = [0, 0, 0, 0, 0, 0, 0, 0, 0]\n",
        "  if(choice==1):\n",
        "    print(\"Computer: O vs. You: X\");\n",
        "    player = input(\"Enter to play 1(st) or 2(nd): \");\n",
        "    player = int(player);\n",
        "    for i in range(0,9):\n",
        "      if(analyzeboard(board)!=0):\n",
        "        break;\n",
        "      if((i+player)%2==0):\n",
        "        CompTurn(board);\n",
        "      else:\n",
        "        ConstBoard(board);\n",
        "        User1Turn(board);\n",
        "    else:\n",
        "      for i in range(0,9):\n",
        "      if(analyzeboard(board)!=0):\n",
        "        break;\n",
        "      if(i%2==0):\n",
        "        CompTurn(board);\n",
        "        User1Turn(board);\n",
        "      else:\n",
        "        ConstBoard(board);\n",
        "        User2Turn(board);\n",
        "\n",
        "  x = analyzeboard(board);\n",
        "  if(x==0):\n",
        "    ConstBoard(board);\n",
        "    print(\"Draw!!\");\n",
        "  if(x==-1):\n",
        "    ConstBoard(board);\n",
        "    print(\"Player X Wins!!! O Looses!!!\");\n",
        "  if(x==1):\n",
        "    ConstBoard(board);\n",
        "    print(\"Player O Wins!!! X Looses!!!\");"
      ]
    }
  ]
}